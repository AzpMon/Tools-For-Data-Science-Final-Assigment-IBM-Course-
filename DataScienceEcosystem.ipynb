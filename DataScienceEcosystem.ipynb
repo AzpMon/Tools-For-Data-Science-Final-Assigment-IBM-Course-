{
 "cells": [
  {
   "attachments": {},
   "cell_type": "markdown",
   "metadata": {},
   "source": [
    "# Data Science Tools and Ecosystem\n",
    "\n",
    "                                                                                                                            (Excercise 2)"
   ]
  },
  {
   "attachments": {},
   "cell_type": "markdown",
   "metadata": {},
   "source": [
    "\n",
    "## Author\n",
    "Alejandro Monroy Azpeitia\n",
    "\n",
    "                                                                                                                            (Excercise 11)"
   ]
  },
  {
   "attachments": {},
   "cell_type": "markdown",
   "metadata": {},
   "source": [
    "This is a brave  ***introduction***  about this notebook: here I'm going to answer the correspondient questions (and excercises) about Data Science Tools and Ecosystem correspond to the IMB's *Tools For Data Science-Final Assigment*.\n",
    "\n",
    "                                                                                                                            (Excercise 3)"
   ]
  },
  {
   "cell_type": "code",
   "execution_count": null,
   "metadata": {},
   "outputs": [],
   "source": []
  },
  {
   "attachments": {},
   "cell_type": "markdown",
   "metadata": {},
   "source": [
    "**OBJECTIVES:**\n",
    "* Important languages for Data Science\n",
    "* Libraries used by Data Scientists\n",
    "* Development \n",
    "\n",
    "                                                                                                                            (Excercise 10)"
   ]
  },
  {
   "attachments": {},
   "cell_type": "markdown",
   "metadata": {},
   "source": [
    "**OBJECTIVES:**\n",
    "* Important languages for Data Science\n",
    "* Libraries used by Data Scientists\n",
    "* Development enviorment open source tools used in Data Science\n",
    "\n",
    "                                                                                                                            (Excercise 10)"
   ]
  },
  {
   "attachments": {},
   "cell_type": "markdown",
   "metadata": {},
   "source": [
    "Some of the most popular languages that Data Sciences use are:\n",
    "1. Python.\n",
    "2. R.\n",
    "3. SQL.\n",
    "\n",
    "                                                                                                                            (Excercise 4)\n"
   ]
  },
  {
   "attachments": {},
   "cell_type": "markdown",
   "metadata": {},
   "source": [
    "Some of the commonly used libraries used by Data Scientists include:\n",
    "1. Tensorflow (Python)\n",
    "2. Pythorch (Python)\n",
    "3. Pandas (Python)\n",
    "4. Caret (R)\n",
    "\n",
    "                                                                                                                            (Excercise 5)\n"
   ]
  },
  {
   "attachments": {},
   "cell_type": "markdown",
   "metadata": {},
   "source": [
    "In thee follow table are three of  the   development environment open source tools used in data science.\n",
    "\n",
    "|**Data Science Tools**|\n",
    "|----------------------|\n",
    "|Jupyter|\n",
    "|Spyder |\n",
    "| RStudio|\n",
    "\n",
    "                                                                                                                            (Excercise 6)\n"
   ]
  },
  {
   "attachments": {},
   "cell_type": "markdown",
   "metadata": {},
   "source": [
    "### Below are a few examples of evaluating arithmetic expressions in Python.\n",
    "\n",
    "\n",
    "                                                                                                                            (Excercise 7)\n"
   ]
  },
  {
   "cell_type": "code",
   "execution_count": 14,
   "metadata": {},
   "outputs": [
    {
     "data": {
      "text/plain": [
       "17"
      ]
     },
     "execution_count": 14,
     "metadata": {},
     "output_type": "execute_result"
    }
   ],
   "source": [
    "#EXCERCISE 8\n",
    "#This a simple arithmetic expression to mutiply then add integers\n",
    "\n",
    "(3*4)+5\n"
   ]
  },
  {
   "cell_type": "code",
   "execution_count": 15,
   "metadata": {},
   "outputs": [
    {
     "name": "stdout",
     "output_type": "stream",
     "text": [
      "200 minutes = 3.3333333333333335 hours\n"
     ]
    }
   ],
   "source": [
    "#EXCERCISE 9: \n",
    "#This (line code) will convert 200 minutes to hours by diving by 60\n",
    "\n",
    "print(f'200 minutes = {200/60} hours')"
   ]
  },
  {
   "cell_type": "code",
   "execution_count": null,
   "metadata": {},
   "outputs": [],
   "source": []
  }
 ],
 "metadata": {
  "kernelspec": {
   "display_name": "Python 3",
   "language": "python",
   "name": "python3"
  },
  "language_info": {
   "codemirror_mode": {
    "name": "ipython",
    "version": 3
   },
   "file_extension": ".py",
   "mimetype": "text/x-python",
   "name": "python",
   "nbconvert_exporter": "python",
   "pygments_lexer": "ipython3",
   "version": "3.11.3"
  },
  "orig_nbformat": 4
 },
 "nbformat": 4,
 "nbformat_minor": 2
}
